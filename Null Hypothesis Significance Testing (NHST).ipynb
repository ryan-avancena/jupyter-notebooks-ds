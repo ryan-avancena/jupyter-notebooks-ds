{
 "cells": [
  {
   "cell_type": "markdown",
   "id": "a07b115b",
   "metadata": {},
   "source": [
    "# Null Hypothesis Significance Testing (NHST)"
   ]
  },
  {
   "cell_type": "code",
   "execution_count": 3,
   "id": "055edcc2",
   "metadata": {},
   "outputs": [],
   "source": [
    "# importing libraries\n",
    "import pandas as pd\n",
    "import matplotlib.pyplot as plt\n",
    "import numpy as np\n",
    "from IPython.display import Math\n",
    "from scipy.stats import binom"
   ]
  },
  {
   "cell_type": "markdown",
   "id": "e441a3bc",
   "metadata": {},
   "source": [
    "1. Define a null hypothesis $H_0$ & alternative hypothesis $H_1$\n",
    "   - null hypothesis = $N-P$\n",
    "   - alt hypothesis is now an interval describing how $H_0$ is wrong\n",
    "   - $H_0$ is what we must presume true before getting data\n",
    "   \n",
    "   \n",
    "2. Define a test statistic describing the amount of evidence we have for $H_a$ and identify its distribution under $H_0$.\n",
    "\n",
    "\n",
    "3. Define a \"significance level\" (standard of evidence)\n",
    "   - Practically: set significance level $\\alpha$\n",
    "   \n",
    "   \n",
    "4. Define a decision rule\n",
    "    - If p-value $\\leq$ sig. level, reject $H_0$. Otherwise. do not reject $H_0$ (fail to reject $H_0$)\n",
    "\n",
    "\n",
    "5. Collect Data and Compute the observed value of the test statistic (from Step 2).\n",
    "\n",
    "\n",
    "6. Compute the p-value using the observed value of the test statistic.\n",
    "\n",
    "\n",
    "7. Make a conclusion using the decision rule. "
   ]
  },
  {
   "cell_type": "markdown",
   "id": "8ce36ac5",
   "metadata": {},
   "source": [
    "### NHST for Proportions (Example 2)"
   ]
  },
  {
   "cell_type": "markdown",
   "id": "2b13fad4",
   "metadata": {},
   "source": [
    "Start with a claim to be tested: 8% of all children and nearsighted.  \n",
    "Identify claim as $H_0$ (believe before data) or $H_a$ (want to show claim is correct).  \n",
    "Easiest way: Translate the equation into an equation or inequality.  \n",
    "In our case for this problem, $p = 0.08$.  \n",
    "- $H_0$ will always contain equality ($=,\\leq,\\geq$)\n",
    "- $H_a$ never contains equallity ($<,>,\\neq$)"
   ]
  },
  {
   "cell_type": "markdown",
   "id": "64334dd4",
   "metadata": {},
   "source": [
    "There are two ways this $H_0$ could be wrong, $p < 0.08$ or $p > 0.08$.  \n",
    "One sided $H_a$: Pick the one you want to prove.  \n",
    "Two sided $H_a$: We don't know/care which is true. We combine: $p \\neq 0.08$"
   ]
  },
  {
   "cell_type": "markdown",
   "id": "a026f475",
   "metadata": {},
   "source": [
    "<hr>"
   ]
  },
  {
   "cell_type": "markdown",
   "id": "250cdd27",
   "metadata": {},
   "source": [
    "Step 1: We are trying to find evidence for $H_a$, so we look for clues in the problem statement.  \n",
    "\"Does the sample provide evidence for us to believe that 8% is inaccurate\" suggests that:\n",
    "- $H_a = p \\neq 0.08$  \n",
    "\n",
    "\n",
    "Step 2: Under $H_0$\n",
    "- $X$ = number of nearsighted children in sample\n",
    "- $X$ ~ B(194, 0.08)\n",
    "\n",
    "Step 3: Define significance level $\\alpha = 0.05$.\n",
    "\n",
    "Step 4: If p-value $\\leq 0.05$ reject $H_0$. If p-value $> 0.05$ fail-to-reject $H_0$.\n",
    "\n",
    "Step 5: In our sample of 194 students, x = 21 are nearsighted.\n",
    "\n",
    "Step 6: The p-value is defined as the probability of obtaining a sample with the same or more evidence that $H_a$ is true, from a population in which $H_0$ is true. \n",
    "\n",
    "Step 7: Our evidence for $H_a: \\hat{p} = \\frac{21}{194} \\neq 0.08$.  \n",
    "Same evidence for $H_a: \\hat{p} = \\frac{21}{194}$ in a different sample.  \n",
    "Because we have a two-sided $H_a, \\hat{p}$ equally far from 0.08 would also be some evidence. \n",
    "\n",
    "In general: \n",
    "- If $H_a$ contains >: use only the parts to the right of value under $H_0$.\n",
    "- If $H_a$ contains <: use only the parts to the left\n",
    "- If $H_a$ contains $\\neq$: use both left and right halves\n",
    "- Get p-value on one side and double it. This works when distribution under $H_0$ is symmetric. \n",
    "\n",
    "<hr>\n",
    "\n",
    "There is a problem with this problem because B(194,0.05) is not symmetric!\n",
    "\n",
    "When $np_0 \\leq 10$ and $n(1-p_0) \\geq 10$. We can assume $\\hat{p}$ ~ $N(p_0, \\sqrt{\\frac{p_0(1-p_0)}{n}})$ and not be \"too off\".\n",
    "\n",
    "Then our test statistic (Large Sample Z-Test): $Z= \\frac{\\hat{p}-p_0}{\\sqrt\\frac{p_0(1-p_0)}{n}}$\n",
    "\n",
    "Example: \n",
    "$\\sqrt\\frac{0.08(1-0.08)}{194} = 0.019$  \n",
    "\n",
    "Observed Z-Score = $\\frac{\\frac{21}{194} - 0.08}{0.019}$ = 1.487 \n",
    "\n",
    "Note: Rguroo and R automatically calculate p-values (don't need to double anything! \n",
    "Note: What does fail to reject $H_0$ mean?   \n",
    "Our p-value = 0.13 > 0.05 $\\rightarrow$ we fail  to reject $H_0$\n",
    "\n",
    "Consider $H_0$ innocent vs. $H_0$ guilty.  \n",
    "- If we reject $H_0 \\rightarrow$  sufficient evidence to reject presumption of innocence $\\rightarrow$ guilty verdict (claim $H_0$ is correct).  \n",
    "- If we fail to reject $H_0 \\rightarrow$ don't have sufficient evidence $\\rightarrow$ not guilty"
   ]
  },
  {
   "cell_type": "markdown",
   "id": "8bb9e485",
   "metadata": {},
   "source": [
    "##  NHST for Proportions (Example 3)\n",
    "3. A Phase II Clinical Trial for eribulin, a candidate drug for prostate cancer, enrolled 41 patients who\n",
    "had not yet undergone chemotherapy. According to the authors, a response rate of 20% or below (20%\n",
    "or fewer patients would respond positively to the drug) would indicate that the drug was not effective.\n",
    "The response rate in the sample was 29.3% (12 out of 41)."
   ]
  },
  {
   "cell_type": "markdown",
   "id": "d5ea9319",
   "metadata": {},
   "source": [
    "$H_a$: the drug works  \n",
    "$H_0$: the drug is ineffective\n",
    "p = probability of positive response\n",
    "\n",
    "$H_0: p = 0.2$\n",
    "\n",
    "$H_a: p > 0.2$ \n",
    "\n",
    "Let X = number of positive responses in the sample.  \n",
    "\n",
    "If $H_0$ is true: X ~ B(41,0.2).\n",
    "\n",
    "$\\hat{p}$ = 0.293\n"
   ]
  },
  {
   "cell_type": "code",
   "execution_count": 4,
   "id": "b6a0c3fd",
   "metadata": {},
   "outputs": [
    {
     "data": {
      "image/png": "[encoded data removed]",
      "text/plain": [
       "<Figure size 432x72 with 1 Axes>"
      ]
     },
     "metadata": {
      "needs_background": "light"
     },
     "output_type": "display_data"
    }
   ],
   "source": [
    "# Create a figure and axis\n",
    "fig, ax = plt.subplots(figsize=(6, 1))\n",
    "\n",
    "# Set the x-axis limits\n",
    "ax.set_xlim(0, 1)\n",
    "\n",
    "# Draw a line at 0.2\n",
    "ax.axvline(x=0.2, color='gray', linestyle='--')\n",
    "\n",
    "# Fill the area to the right of 0.2 with gray\n",
    "ax.fill_betweenx([0, 1], 0.2, 1, color='lightgray')\n",
    "\n",
    "# Remove y-axis and ticks\n",
    "ax.set_yticks([])\n",
    "ax.spines['left'].set_visible(False)\n",
    "\n",
    "# Display the plot\n",
    "plt.show()"
   ]
  },
  {
   "cell_type": "markdown",
   "id": "b2586383",
   "metadata": {},
   "source": [
    "$np_0 = (41)(0.2) = 8.2$ \n",
    "\n",
    "This is too small - use binomial distibution instead of Z ~ N(0,1).  \n",
    "Same evidence with (X=12), if we get more evidence X > 12. \n",
    "\n",
    "p-value: $P(X \\geq 12)$ when X ~ B(41,0.2) = 0.1022.\n",
    "\n",
    "Using the 5% significance level (0.05), we fail to reject $H_0$. Remember, if p-value is bigger, fail to reject $H_0$, if less than or equal to, reject $H_0$.\n",
    "\n",
    "Based on this, we do not have sufficient evidence to claim the drug is effective. "
   ]
  }
 ],
 "metadata": {
  "kernelspec": {
   "display_name": "Python 3 (ipykernel)",
   "language": "python",
   "name": "python3"
  },
  "language_info": {
   "codemirror_mode": {
    "name": "ipython",
    "version": 3
   },
   "file_extension": ".py",
   "mimetype": "text/x-python",
   "name": "python",
   "nbconvert_exporter": "python",
   "pygments_lexer": "ipython3",
   "version": "3.9.7"
  }
 },
 "nbformat": 4,
 "nbformat_minor": 5
}
