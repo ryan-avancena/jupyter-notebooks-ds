{
 "cells": [
  {
   "cell_type": "markdown",
   "id": "876a411f",
   "metadata": {},
   "source": [
    "The World Happiness Report is a landmark survey of the state of global happiness. The first report was published in 2012, the second in 2013, the third in 2015, and the fourth in the 2016 Update. The World Happiness 2017, which ranks 155 countries by their happiness levels, was released at the United Nations at an event celebrating International Day of Happiness on March 20th. The report continues to gain global recognition as governments, organizations and civil society increasingly use happiness indicators to inform their policy-making decisions. Leading experts across fields – economics, psychology, survey analysis, national statistics, health, public policy and more – describe how measurements of well-being can be used effectively to assess the progress of nations. The reports review the state of happiness in the world today and show how the new science of happiness explains personal and national variations in happiness."
   ]
  },
  {
   "cell_type": "markdown",
   "id": "e10716fb",
   "metadata": {},
   "source": [
    "<hr>"
   ]
  },
  {
   "cell_type": "markdown",
   "id": "f15b9359",
   "metadata": {},
   "source": [
    "### questions that can be derived from this dataset\n",
    "- how does genoristy correlate with score?\n",
    "- does a country's economy correlate with their overall \"happiness\"?"
   ]
  },
  {
   "cell_type": "markdown",
   "id": "88fd16cc",
   "metadata": {},
   "source": [
    "<hr>"
   ]
  },
  {
   "cell_type": "code",
   "execution_count": 184,
   "id": "3ed1f2a7",
   "metadata": {},
   "outputs": [],
   "source": [
    "import numpy as np\n",
    "import matplotlib.pyplot as plt\n",
    "import seaborn as sns\n",
    "import pandas as pd"
   ]
  },
  {
   "cell_type": "code",
   "execution_count": 185,
   "id": "69abe7eb",
   "metadata": {
    "scrolled": true
   },
   "outputs": [],
   "source": [
    "happy_df = pd.read_csv('csvfiles/happiness/2018.csv')\n",
    "happy_df\n",
    "\n",
    "happy_df_gdp = pd.read_csv('csvfiles/happiness/GDP.csv')\n",
    "happy_df_gdp2018 = happy_df_gdp['2018']"
   ]
  },
  {
   "cell_type": "markdown",
   "id": "6bef6a79",
   "metadata": {},
   "source": [
    "<hr>"
   ]
  },
  {
   "cell_type": "markdown",
   "id": "7a285d64",
   "metadata": {},
   "source": [
    "### preprocessing"
   ]
  },
  {
   "cell_type": "code",
   "execution_count": 186,
   "id": "4493f603",
   "metadata": {
    "scrolled": false
   },
   "outputs": [],
   "source": [
    "# print(happy_df.columns)\n",
    "# print(happy_df.isnull().sum())\n",
    "# happy_df.describe()\n",
    "# happy_df_sample = happy_df.head(40)\n",
    "# print(happy_df_gdp2018.isnull().sum())"
   ]
  },
  {
   "cell_type": "code",
   "execution_count": 187,
   "id": "a3bfc578",
   "metadata": {
    "scrolled": true
   },
   "outputs": [],
   "source": [
    "# x = happy_df_sample['Overall rank']\n",
    "# y = happy_df_sample['Country or region']\n",
    "\n",
    "# plt.figure(figsize=(8,10))\n",
    "# plt.barh(y, x) \n",
    "# plt.xlabel('Rank')\n",
    "# plt.ylabel('Country or region')\n",
    "# plt.title('Rank of Countries or Regions')"
   ]
  },
  {
   "cell_type": "markdown",
   "id": "8b23814f",
   "metadata": {},
   "source": [
    "<hr>"
   ]
  },
  {
   "cell_type": "markdown",
   "id": "73462334",
   "metadata": {},
   "source": [
    "### merging dataset with GDP info"
   ]
  },
  {
   "cell_type": "code",
   "execution_count": 188,
   "id": "c44f4abc",
   "metadata": {
    "scrolled": true
   },
   "outputs": [
    {
     "data": {
      "text/html": [
       "<div>\n",
       "<style scoped>\n",
       "    .dataframe tbody tr th:only-of-type {\n",
       "        vertical-align: middle;\n",
       "    }\n",
       "\n",
       "    .dataframe tbody tr th {\n",
       "        vertical-align: top;\n",
       "    }\n",
       "\n",
       "    .dataframe thead th {\n",
       "        text-align: right;\n",
       "    }\n",
       "</style>\n",
       "<table border=\"1\" class=\"dataframe\">\n",
       "  <thead>\n",
       "    <tr style=\"text-align: right;\">\n",
       "      <th></th>\n",
       "      <th>Overall rank</th>\n",
       "      <th>Country or region</th>\n",
       "      <th>Score</th>\n",
       "      <th>GDP per capita</th>\n",
       "      <th>Social support</th>\n",
       "      <th>Healthy life expectancy</th>\n",
       "      <th>Freedom to make life choices</th>\n",
       "      <th>Generosity</th>\n",
       "      <th>Perceptions of corruption</th>\n",
       "      <th>2018</th>\n",
       "    </tr>\n",
       "  </thead>\n",
       "  <tbody>\n",
       "    <tr>\n",
       "      <th>0</th>\n",
       "      <td>1</td>\n",
       "      <td>Finland</td>\n",
       "      <td>7.632</td>\n",
       "      <td>1.305</td>\n",
       "      <td>1.592</td>\n",
       "      <td>0.874</td>\n",
       "      <td>0.681</td>\n",
       "      <td>0.202</td>\n",
       "      <td>0.393</td>\n",
       "      <td>48416.936030</td>\n",
       "    </tr>\n",
       "    <tr>\n",
       "      <th>1</th>\n",
       "      <td>2</td>\n",
       "      <td>Norway</td>\n",
       "      <td>7.594</td>\n",
       "      <td>1.456</td>\n",
       "      <td>1.582</td>\n",
       "      <td>0.861</td>\n",
       "      <td>0.686</td>\n",
       "      <td>0.286</td>\n",
       "      <td>0.340</td>\n",
       "      <td>65510.585270</td>\n",
       "    </tr>\n",
       "    <tr>\n",
       "      <th>2</th>\n",
       "      <td>3</td>\n",
       "      <td>Denmark</td>\n",
       "      <td>7.555</td>\n",
       "      <td>1.351</td>\n",
       "      <td>1.590</td>\n",
       "      <td>0.868</td>\n",
       "      <td>0.683</td>\n",
       "      <td>0.284</td>\n",
       "      <td>0.408</td>\n",
       "      <td>55671.165270</td>\n",
       "    </tr>\n",
       "    <tr>\n",
       "      <th>3</th>\n",
       "      <td>4</td>\n",
       "      <td>Iceland</td>\n",
       "      <td>7.495</td>\n",
       "      <td>1.343</td>\n",
       "      <td>1.644</td>\n",
       "      <td>0.914</td>\n",
       "      <td>0.677</td>\n",
       "      <td>0.353</td>\n",
       "      <td>0.138</td>\n",
       "      <td>57303.060780</td>\n",
       "    </tr>\n",
       "    <tr>\n",
       "      <th>4</th>\n",
       "      <td>5</td>\n",
       "      <td>Switzerland</td>\n",
       "      <td>7.487</td>\n",
       "      <td>1.420</td>\n",
       "      <td>1.549</td>\n",
       "      <td>0.927</td>\n",
       "      <td>0.660</td>\n",
       "      <td>0.256</td>\n",
       "      <td>0.357</td>\n",
       "      <td>68060.941050</td>\n",
       "    </tr>\n",
       "    <tr>\n",
       "      <th>...</th>\n",
       "      <td>...</td>\n",
       "      <td>...</td>\n",
       "      <td>...</td>\n",
       "      <td>...</td>\n",
       "      <td>...</td>\n",
       "      <td>...</td>\n",
       "      <td>...</td>\n",
       "      <td>...</td>\n",
       "      <td>...</td>\n",
       "      <td>...</td>\n",
       "    </tr>\n",
       "    <tr>\n",
       "      <th>131</th>\n",
       "      <td>149</td>\n",
       "      <td>Liberia</td>\n",
       "      <td>3.495</td>\n",
       "      <td>0.076</td>\n",
       "      <td>0.858</td>\n",
       "      <td>0.267</td>\n",
       "      <td>0.419</td>\n",
       "      <td>0.206</td>\n",
       "      <td>0.030</td>\n",
       "      <td>1308.629536</td>\n",
       "    </tr>\n",
       "    <tr>\n",
       "      <th>132</th>\n",
       "      <td>151</td>\n",
       "      <td>Rwanda</td>\n",
       "      <td>3.408</td>\n",
       "      <td>0.332</td>\n",
       "      <td>0.896</td>\n",
       "      <td>0.400</td>\n",
       "      <td>0.636</td>\n",
       "      <td>0.200</td>\n",
       "      <td>0.444</td>\n",
       "      <td>2251.556388</td>\n",
       "    </tr>\n",
       "    <tr>\n",
       "      <th>133</th>\n",
       "      <td>153</td>\n",
       "      <td>Tanzania</td>\n",
       "      <td>3.303</td>\n",
       "      <td>0.455</td>\n",
       "      <td>0.991</td>\n",
       "      <td>0.381</td>\n",
       "      <td>0.481</td>\n",
       "      <td>0.270</td>\n",
       "      <td>0.097</td>\n",
       "      <td>3240.262937</td>\n",
       "    </tr>\n",
       "    <tr>\n",
       "      <th>135</th>\n",
       "      <td>155</td>\n",
       "      <td>Central African Republic</td>\n",
       "      <td>3.083</td>\n",
       "      <td>0.024</td>\n",
       "      <td>0.000</td>\n",
       "      <td>0.010</td>\n",
       "      <td>0.305</td>\n",
       "      <td>0.218</td>\n",
       "      <td>0.038</td>\n",
       "      <td>859.935620</td>\n",
       "    </tr>\n",
       "    <tr>\n",
       "      <th>136</th>\n",
       "      <td>156</td>\n",
       "      <td>Burundi</td>\n",
       "      <td>2.905</td>\n",
       "      <td>0.091</td>\n",
       "      <td>0.627</td>\n",
       "      <td>0.145</td>\n",
       "      <td>0.065</td>\n",
       "      <td>0.149</td>\n",
       "      <td>0.076</td>\n",
       "      <td>744.182072</td>\n",
       "    </tr>\n",
       "  </tbody>\n",
       "</table>\n",
       "<p>135 rows × 10 columns</p>\n",
       "</div>"
      ],
      "text/plain": [
       "     Overall rank         Country or region  Score  GDP per capita  \\\n",
       "0               1                   Finland  7.632           1.305   \n",
       "1               2                    Norway  7.594           1.456   \n",
       "2               3                   Denmark  7.555           1.351   \n",
       "3               4                   Iceland  7.495           1.343   \n",
       "4               5               Switzerland  7.487           1.420   \n",
       "..            ...                       ...    ...             ...   \n",
       "131           149                   Liberia  3.495           0.076   \n",
       "132           151                    Rwanda  3.408           0.332   \n",
       "133           153                  Tanzania  3.303           0.455   \n",
       "135           155  Central African Republic  3.083           0.024   \n",
       "136           156                   Burundi  2.905           0.091   \n",
       "\n",
       "     Social support  Healthy life expectancy  Freedom to make life choices  \\\n",
       "0             1.592                    0.874                         0.681   \n",
       "1             1.582                    0.861                         0.686   \n",
       "2             1.590                    0.868                         0.683   \n",
       "3             1.644                    0.914                         0.677   \n",
       "4             1.549                    0.927                         0.660   \n",
       "..              ...                      ...                           ...   \n",
       "131           0.858                    0.267                         0.419   \n",
       "132           0.896                    0.400                         0.636   \n",
       "133           0.991                    0.381                         0.481   \n",
       "135           0.000                    0.010                         0.305   \n",
       "136           0.627                    0.145                         0.065   \n",
       "\n",
       "     Generosity  Perceptions of corruption          2018  \n",
       "0         0.202                      0.393  48416.936030  \n",
       "1         0.286                      0.340  65510.585270  \n",
       "2         0.284                      0.408  55671.165270  \n",
       "3         0.353                      0.138  57303.060780  \n",
       "4         0.256                      0.357  68060.941050  \n",
       "..          ...                        ...           ...  \n",
       "131       0.206                      0.030   1308.629536  \n",
       "132       0.200                      0.444   2251.556388  \n",
       "133       0.270                      0.097   3240.262937  \n",
       "135       0.218                      0.038    859.935620  \n",
       "136       0.149                      0.076    744.182072  \n",
       "\n",
       "[135 rows x 10 columns]"
      ]
     },
     "execution_count": 188,
     "metadata": {},
     "output_type": "execute_result"
    }
   ],
   "source": [
    "df_merged = pd.merge(happy_df, happy_df_gdp[['Country ', '2018']], \n",
    "                     right_on='Country ', \n",
    "                     left_on='Country or region', \n",
    "                     how='inner') # only rows that exits on both that datasets will be brought\n",
    "\n",
    "df_merged = df_merged.drop('Country ', axis=1)\n",
    "\n",
    "# deleting rows without GDP data\n",
    "df_merged = df_merged.dropna(subset=['2018'])\n",
    "\n",
    "df_merged"
   ]
  },
  {
   "cell_type": "code",
   "execution_count": 189,
   "id": "574b118c",
   "metadata": {},
   "outputs": [
    {
     "data": {
      "image/png": "[encoded data removed]",
      "text/plain": [
       "<Figure size 432x288 with 1 Axes>"
      ]
     },
     "metadata": {
      "needs_background": "light"
     },
     "output_type": "display_data"
    }
   ],
   "source": [
    "x = df_merged['2018']\n",
    "y = df_merged['Score']\n",
    "plt.scatter(x,y)\n",
    "plt.show()"
   ]
  },
  {
   "cell_type": "markdown",
   "id": "ebc03860",
   "metadata": {},
   "source": [
    "Tthe graph seems to have an upwards trend. Suggesting a positive correlation between GDP per capita and happiness. We should notice that after a certain level of GDP per capita, the happiness score seems to decrease. If we want a function that fits that data, a good call would be a quadratic function:\n",
    "\n",
    "- $f(x) = ax² + bx + c$"
   ]
  },
  {
   "cell_type": "markdown",
   "id": "6f879fef",
   "metadata": {},
   "source": [
    "<hr>"
   ]
  },
  {
   "cell_type": "markdown",
   "id": "1dfd6d83",
   "metadata": {},
   "source": [
    "### creating quadratic model"
   ]
  },
  {
   "cell_type": "code",
   "execution_count": 190,
   "id": "f5398e63",
   "metadata": {
    "scrolled": true
   },
   "outputs": [
    {
     "name": "stdout",
     "output_type": "stream",
     "text": [
      "Regression:\n",
      "y = -5.086896549295292e-10 x² + 7.87176426296343e-05x + 4.18     R² = 0.68 \n"
     ]
    },
    {
     "data": {
      "image/png": "[encoded data removed]",
      "text/plain": [
       "<Figure size 720x360 with 1 Axes>"
      ]
     },
     "metadata": {
      "needs_background": "light"
     },
     "output_type": "display_data"
    }
   ],
   "source": [
    "from sklearn.linear_model import LinearRegression\n",
    "from sklearn.preprocessing import PolynomialFeatures\n",
    "\n",
    "# defining x and f(x)\n",
    "X = df_merged['2018'].values.reshape(-1, 1)  \n",
    "y = df_merged['Score']  # explained variable (f(x))\n",
    "\n",
    "# polynomial features to 2nd degree (quadratic)\n",
    "poly_features = PolynomialFeatures(degree=2)\n",
    "X_poly = poly_features.fit_transform(X)\n",
    "\n",
    "# creating and adjusting the regression model\n",
    "reg = LinearRegression().fit(X_poly, y)\n",
    "\n",
    "# getting a, b and c\n",
    "coef = reg.coef_ # the values of a and b are now stored in this array\n",
    "c = reg.intercept_\n",
    "\n",
    "# calculating the coefficient of determination (R²)\n",
    "r2 = reg.score(X_poly,y)\n",
    "\n",
    "print(f\"Regression:\\ny = {coef[2]} x² + {coef[1]}x + {round(c,2)}     R² = {round(r2, 2)} \")\n",
    "\n",
    "# generating values for x\n",
    "x_values = np.linspace(X.min(), X.max(), 100).reshape(-1, 1)\n",
    "\n",
    "# Predicting the values with the model for plotting the regression\n",
    "y_pred = reg.predict(poly_features.transform(x_values))\n",
    "\n",
    "plt.figure(figsize= (10,5))\n",
    "\n",
    "plt.title(\"Quadratic Regression\")\n",
    "plt.xlabel('GDP per capita')\n",
    "plt.ylabel('Happiness Score')\n",
    "\n",
    "plt.scatter(X,y)\n",
    "\n",
    "plt.plot(x_values, y_pred, 'red')\n",
    "\n",
    "plt.show()"
   ]
  },
  {
   "cell_type": "code",
   "execution_count": 191,
   "id": "66546463",
   "metadata": {},
   "outputs": [
    {
     "name": "stdout",
     "output_type": "stream",
     "text": [
      "[77201.29954352]\n"
     ]
    }
   ],
   "source": [
    "max_index = np.argmax(y_pred)\n",
    "x_max = x_values[max_index]\n",
    "\n",
    "print(x_max)"
   ]
  }
 ],
 "metadata": {
  "kernelspec": {
   "display_name": "Python 3 (ipykernel)",
   "language": "python",
   "name": "python3"
  },
  "language_info": {
   "codemirror_mode": {
    "name": "ipython",
    "version": 3
   },
   "file_extension": ".py",
   "mimetype": "text/x-python",
   "name": "python",
   "nbconvert_exporter": "python",
   "pygments_lexer": "ipython3",
   "version": "3.9.7"
  }
 },
 "nbformat": 4,
 "nbformat_minor": 5
}
